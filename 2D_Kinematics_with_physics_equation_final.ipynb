{
  "nbformat": 4,
  "nbformat_minor": 0,
  "metadata": {
    "colab": {
      "provenance": [],
      "collapsed_sections": [],
      "mount_file_id": "1Sr3hGlsxuXFIW0S02df7jH4d2iozN5CI",
      "authorship_tag": "ABX9TyMg/HEAcGQ/EHbkrbiHyQLe",
      "include_colab_link": true
    },
    "kernelspec": {
      "display_name": "Python 3",
      "name": "python3"
    },
    "language_info": {
      "name": "python"
    }
  },
  "cells": [
    {
      "cell_type": "markdown",
      "metadata": {
        "id": "view-in-github",
        "colab_type": "text"
      },
      "source": [
        "<a href=\"https://colab.research.google.com/github/nicholassung97/DemonstrationofPINNs/blob/main/2D_Kinematics_with_physics_equation_final.ipynb\" target=\"_parent\"><img src=\"https://colab.research.google.com/assets/colab-badge.svg\" alt=\"Open In Colab\"/></a>"
      ]
    },
    {
      "cell_type": "markdown",
      "metadata": {
        "id": "wjh8UHpw-Wxe"
      },
      "source": [
        "#***2D Kinematics Equation using PINNs***\n",
        "\n",
        "\n",
        "---\n"
      ]
    },
    {
      "cell_type": "markdown",
      "metadata": {
        "id": "UpU5GfDyjB5E"
      },
      "source": [
        "#Setting Up Libraries"
      ]
    },
    {
      "cell_type": "markdown",
      "metadata": {
        "id": "BKyLNRX8KhQO"
      },
      "source": [
        "Install the pyDOE library"
      ]
    },
    {
      "cell_type": "code",
      "metadata": {
        "colab": {
          "base_uri": "https://localhost:8080/"
        },
        "collapsed": true,
        "id": "c3mkxL0vnrsR",
        "outputId": "29e40578-1b22-43b9-bd9a-4ae035f44b77"
      },
      "source": [
        "!pip install --upgrade pyDOE"
      ],
      "execution_count": null,
      "outputs": [
        {
          "output_type": "stream",
          "text": [
            "Collecting pyDOE\n",
            "  Downloading https://files.pythonhosted.org/packages/bc/ac/91fe4c039e2744466621343d3b8af4a485193ed0aab53af5b1db03be0989/pyDOE-0.3.8.zip\n",
            "Requirement already satisfied, skipping upgrade: numpy in /usr/local/lib/python3.7/dist-packages (from pyDOE) (1.19.5)\n",
            "Requirement already satisfied, skipping upgrade: scipy in /usr/local/lib/python3.7/dist-packages (from pyDOE) (1.4.1)\n",
            "Building wheels for collected packages: pyDOE\n",
            "  Building wheel for pyDOE (setup.py) ... \u001b[?25l\u001b[?25hdone\n",
            "  Created wheel for pyDOE: filename=pyDOE-0.3.8-cp37-none-any.whl size=18184 sha256=84fd7b79731277fe667525b8e94e0f330222ba58875a697b673cf4fdf04ab96f\n",
            "  Stored in directory: /root/.cache/pip/wheels/7c/c8/58/a6493bd415e8ba5735082b5e0c096d7c1f2933077a8ce34544\n",
            "Successfully built pyDOE\n",
            "Installing collected packages: pyDOE\n",
            "Successfully installed pyDOE-0.3.8\n"
          ],
          "name": "stdout"
        }
      ]
    },
    {
      "cell_type": "markdown",
      "metadata": {
        "id": "YEU2Nj2xKncP"
      },
      "source": [
        "Import the other flow libraries \n",
        "(Convert tensorflow to version 1)"
      ]
    },
    {
      "cell_type": "code",
      "metadata": {
        "colab": {
          "base_uri": "https://localhost:8080/"
        },
        "id": "ZGE8VsqgoN5B",
        "outputId": "9d38bbc7-6e54-4012-a2b0-1472002a4040"
      },
      "source": [
        "%tensorflow_version 1.x\n",
        "import tensorflow as tf\n",
        "import numpy as np\n",
        "import matplotlib.pyplot as plt\n",
        "import scipy.io\n",
        "from scipy.interpolate import griddata\n",
        "from pyDOE import lhs\n",
        "from mpl_toolkits.mplot3d import Axes3D\n",
        "import time\n",
        "import matplotlib.gridspec as gridspec\n",
        "from mpl_toolkits.axes_grid1 import make_axes_locatable"
      ],
      "execution_count": null,
      "outputs": [
        {
          "output_type": "stream",
          "text": [
            "TensorFlow 1.x selected.\n"
          ],
          "name": "stdout"
        }
      ]
    },
    {
      "cell_type": "markdown",
      "metadata": {
        "id": "6i4SNGd2_CZ-"
      },
      "source": [
        "Random Seed"
      ]
    },
    {
      "cell_type": "code",
      "metadata": {
        "id": "vSs73T7bodCg"
      },
      "source": [
        "np.random.seed(1234)\n",
        "tf.set_random_seed(1234) # New version of tensorflow uses random.set_seed instead"
      ],
      "execution_count": null,
      "outputs": []
    },
    {
      "cell_type": "markdown",
      "metadata": {
        "id": "_lI-pTuyqOLv"
      },
      "source": [
        "Install Latex Package"
      ]
    },
    {
      "cell_type": "code",
      "metadata": {
        "id": "vxQYbGL8pg7N"
      },
      "source": [
        "!sudo apt-get install texlive-latex-extra texlive-fonts-recommended dvipng cm-super"
      ],
      "execution_count": null,
      "outputs": []
    },
    {
      "cell_type": "markdown",
      "metadata": {
        "id": "Z-mIcC2lK3kV"
      },
      "source": [
        "#Setting Up PhysicsInformedNN\n"
      ]
    },
    {
      "cell_type": "code",
      "metadata": {
        "id": "u8IRJny5o3NI"
      },
      "source": [
        "class PhysicsInformedNN:\n",
        "    # Initialize the class\n",
        "      def __init__(self, tx_b, x_b, tz_b, z_b, t_f, layers, lb, ub):\n",
        "\n",
        "        self.lb = lb\n",
        "        self.ub = ub\n",
        "        # Boundary conditions of x(t=0)=0 and x(t=10)=0\n",
        "        # Time boundary conditions\n",
        "        self.tx_b = tx_b\n",
        "        # Displacement boundary conditions\n",
        "        self.x_b = x_b\n",
        "        # Boundary conditions of z(t=0)=0\n",
        "        self.tz_b = tz_b\n",
        "        # Displacement boundary conditions\n",
        "        self.z_b = z_b\n",
        "        # Function time conditions\n",
        "        self.t_f = t_f\n",
        "        # Neurons in each layer\n",
        "        self.layers = layers\n",
        "        \n",
        "        # Initialize NNs\n",
        "        self.weights, self.biases = self.initialize_NN(layers)\n",
        "        \n",
        "        # tf placeholders and graph\n",
        "        self.sess = tf.Session(config=tf.ConfigProto(allow_soft_placement=True,\n",
        "                                                     log_device_placement=True))\n",
        "\n",
        "        self.tx_b_tf = tf.placeholder(tf.float32, shape=[None, self.tx_b.shape[1]])        \n",
        "        self.x_b_tf = tf.placeholder(tf.float32, shape=[None, self.x_b.shape[1]])\n",
        "        self.tz_b_tf = tf.placeholder(tf.float32, shape=[None, self.tz_b.shape[1]])\n",
        "        self.z_b_tf = tf.placeholder(tf.float32, shape=[None, self.z_b.shape[1]])\n",
        "        self.t_f_tf = tf.placeholder(tf.float32, shape=[None, self.t_f.shape[1]])\n",
        "\n",
        "        self.x_b_pred, _ = self.net_xz_b(self.tx_b_tf)\n",
        "        _, self.z_b_pred = self.net_xz_b(self.tz_b_tf)\n",
        "        self.fx_pred, self.fz_pred = self.net_f(self.t_f_tf)\n",
        "\n",
        "        self.loss = tf.reduce_mean(tf.square(self.x_b_tf - self.x_b_pred)) + tf.reduce_mean(tf.square(self.z_b_tf - self.z_b_pred)) + \\\n",
        "                    tf.reduce_mean(tf.square(self.fx_pred)) + tf.reduce_mean(tf.square(self.fz_pred))\n",
        "               \n",
        "                \n",
        "        self.optimizer = tf.contrib.opt.ScipyOptimizerInterface(self.loss, \n",
        "                                                                method = 'L-BFGS-B', \n",
        "                                                                options = {'maxiter': 50000,\n",
        "                                                                           'maxfun': 50000,\n",
        "                                                                           'maxcor': 50,\n",
        "                                                                           'maxls': 50,\n",
        "                                                                           'ftol' : 1.0 * np.finfo(float).eps})\n",
        "        \n",
        "        init = tf.global_variables_initializer()\n",
        "        self.sess.run(init)\n"
      ],
      "execution_count": null,
      "outputs": []
    },
    {
      "cell_type": "markdown",
      "metadata": {
        "id": "_d9QjMUBNJky"
      },
      "source": [
        "Function to create weights and biases based on layers"
      ]
    },
    {
      "cell_type": "code",
      "metadata": {
        "id": "obHaLmDUL4LN"
      },
      "source": [
        "    def initialize_NN(self, layers):          # Creates weights and biases   \n",
        "        weights = []\n",
        "        biases = []\n",
        "        num_layers = len(layers) \n",
        "        for l in range(0,num_layers-1):\n",
        "            W = self.xavier_init(size=[layers[l], layers[l+1]])\n",
        "            # creates rows of zeros (len of layers)\n",
        "            b = tf.Variable(tf.zeros([1,layers[l+1]], dtype=tf.float32), dtype=tf.float32)\n",
        "            weights.append(W)\n",
        "            biases.append(b)        \n",
        "        return weights, biases\n",
        "    PhysicsInformedNN.initialize_NN = initialize_NN"
      ],
      "execution_count": null,
      "outputs": []
    },
    {
      "cell_type": "markdown",
      "metadata": {
        "id": "p98q_7mdNPfH"
      },
      "source": [
        "Function to generate range of values based on the normal distribution"
      ]
    },
    {
      "cell_type": "code",
      "metadata": {
        "id": "XMjMTbk_L1a1"
      },
      "source": [
        "    def xavier_init(self, size):            # Generates values with following a normal distribution \n",
        "        in_dim = size[0]\n",
        "        out_dim = size[1] \n",
        "        xavier_stddev = np.sqrt(2/(in_dim + out_dim))\n",
        "        # Initializer that generates a truncated normal distribution.\n",
        "        return tf.Variable(tf.truncated_normal([in_dim, out_dim], stddev=xavier_stddev), dtype=tf.float32)\n",
        "    PhysicsInformedNN.xavier_init = xavier_init"
      ],
      "execution_count": null,
      "outputs": []
    },
    {
      "cell_type": "markdown",
      "metadata": {
        "id": "W1jYZOyqOohX"
      },
      "source": [
        "Function that run through the neural network"
      ]
    },
    {
      "cell_type": "code",
      "metadata": {
        "id": "JzhmyyixLxHu"
      },
      "source": [
        "    def neural_net(self, X, weights, biases):\n",
        "        num_layers = len(weights) + 1\n",
        "        \n",
        "        H = 2.0*(X - self.lb)/(self.ub - self.lb) - 1.0\n",
        "        for l in range(0,num_layers-2):\n",
        "            W = weights[l]\n",
        "            b = biases[l]\n",
        "            H = tf.tanh(tf.add(tf.matmul(H, W), b))\n",
        "        W = weights[-1]\n",
        "        b = biases[-1]\n",
        "        Y = tf.add(tf.matmul(H, W), b)\n",
        "        return Y \n",
        "    PhysicsInformedNN.neural_net = neural_net"
      ],
      "execution_count": null,
      "outputs": []
    },
    {
      "cell_type": "markdown",
      "metadata": {
        "id": "RqZ2IjQyOS3I"
      },
      "source": [
        "Function that returns x and z when t is entered"
      ]
    },
    {
      "cell_type": "code",
      "metadata": {
        "id": "NjSLYyp0Lq5l"
      },
      "source": [
        "  def net_xz_b(self, t):\n",
        "    xz = self.neural_net(tf.concat([t], 1), self.weights, self.biases)\n",
        "    x = xz[:, 0:1]\n",
        "    z = xz[:, 1:2]\n",
        "    return x, z\n",
        "  PhysicsInformedNN.net_xz_b = net_xz_b"
      ],
      "execution_count": null,
      "outputs": []
    },
    {
      "cell_type": "markdown",
      "metadata": {
        "id": "mg-_7zsxPT13"
      },
      "source": [
        "Function that returns cost function when t is entered"
      ]
    },
    {
      "cell_type": "code",
      "metadata": {
        "id": "aPnVbvykLoSu"
      },
      "source": [
        "  def net_f(self, t):\n",
        "    x, z = self.net_xz_b(t)\n",
        "    x_t = tf.gradients(x, t)[0]\n",
        "    x_tt = tf.gradients(x_t, t)[0]\n",
        "    fx = x_tt + 10\n",
        "    z_t = tf.gradients(z, t)[0]\n",
        "    fz = z_t - 2\n",
        "    return fx, fz\n",
        "\n",
        "\n",
        "  PhysicsInformedNN.net_f = net_f"
      ],
      "execution_count": null,
      "outputs": []
    },
    {
      "cell_type": "markdown",
      "metadata": {
        "id": "FVrKEWPLRtOB"
      },
      "source": [
        "Function that prints the loss "
      ]
    },
    {
      "cell_type": "code",
      "metadata": {
        "id": "LoVbM1l5LknF"
      },
      "source": [
        "    def callback(self, loss):\n",
        "        print('Loss:', loss)\n",
        "    PhysicsInformedNN.callback = callback"
      ],
      "execution_count": null,
      "outputs": []
    },
    {
      "cell_type": "markdown",
      "metadata": {
        "id": "LxmPOBDQSoDx"
      },
      "source": [
        "Function that outputs iterations, loss and time given no of iterations"
      ]
    },
    {
      "cell_type": "code",
      "metadata": {
        "id": "bWdQ6CG_LafO"
      },
      "source": [
        "def train(self):\n",
        "        \n",
        "        tf_dict = {self.tx_b_tf: self.tx_b, self.x_b_tf: self.x_b, self.t_f_tf: self.t_f, self.tz_b_tf: self.tz_b, self.z_b_tf: self.z_b}\n",
        "                                                                                                                         \n",
        "        self.optimizer.minimize(self.sess, \n",
        "                                feed_dict = tf_dict,         \n",
        "                                fetches = [self.loss], \n",
        "                                loss_callback = self.callback)  \n",
        "PhysicsInformedNN.train = train"
      ],
      "execution_count": null,
      "outputs": []
    },
    {
      "cell_type": "markdown",
      "metadata": {
        "id": "w4605469TG1o"
      },
      "source": [
        "Functions that produces the predicted values for x and f"
      ]
    },
    {
      "cell_type": "code",
      "metadata": {
        "id": "NF_bzoHDK_yt"
      },
      "source": [
        "def predict(self, t_star):\n",
        "                \n",
        "        x_star = self.sess.run(self.x_b_pred, {self.tx_b_tf: t_star[:,0:1]})\n",
        "        z_star = self.sess.run(self.z_b_pred, {self.tz_b_tf: t_star[:,0:1]})\n",
        "        fx_star = self.sess.run(self.fx_pred, {self.t_f_tf: t_star[:,0:1]})\n",
        "        fz_star = self.sess.run(self.fz_pred, {self.t_f_tf: t_star[:, 0:1]})\n",
        "        return x_star, z_star, fx_star, fz_star\n",
        "PhysicsInformedNN.predict = predict"
      ],
      "execution_count": null,
      "outputs": []
    },
    {
      "cell_type": "markdown",
      "metadata": {
        "id": "2ZKq4WW5X6rg"
      },
      "source": [
        "# Input Training values into PhysicsInformedNN"
      ]
    },
    {
      "cell_type": "markdown",
      "metadata": {
        "id": "sGm7Vh3Fmj2K"
      },
      "source": [
        "Creating Training Values"
      ]
    },
    {
      "cell_type": "code",
      "metadata": {
        "id": "l9HoRrgU81VO"
      },
      "source": [
        "# Boundary Condtions (lb: t=0 and ub: t=10 )\n",
        "lb = 0\n",
        "ub = 10\n",
        "# Creates an array of t with intervals of 0.01\n",
        "t = np.arange(lb, ub, 0.01)\n",
        "x = -5*t*t + 50*t\n",
        "z = 2*t\n",
        "t_star = t.flatten()[:,None]\n",
        "x_star = x.flatten()[:,None]\n",
        "z_star = z.flatten()[:,None]\n",
        "\n",
        "# Layers for Neural Network\n",
        "layers =  [1, 10, 2]\n",
        "\n",
        "# Boundaries for time and displacement for x\n",
        "tx_b_train = np.vstack([t_star[0,:], t_star[-1,:]])\n",
        "x_b_train = np.vstack([x_star[0,:], x_star[-1,:]])\n",
        "\n",
        "# Boundaries for time and displacement for z\n",
        "tz_b_train = np.vstack([t_star[0,:]])\n",
        "z_b_train = np.vstack([z_star[0,:]])\n",
        "# Time values that will include the extrapolation time range from t=10 to t=15\n",
        "N_f = 10000\n",
        "lb_collocation = 0\n",
        "ub_collocation = 15\n",
        "t_f_train = lb_collocation + (ub_collocation -lb_collocation)*lhs(1, N_f)"
      ],
      "execution_count": null,
      "outputs": []
    },
    {
      "cell_type": "markdown",
      "metadata": {
        "id": "qLH02QbJmcJP"
      },
      "source": [
        "#Training the model"
      ]
    },
    {
      "cell_type": "code",
      "metadata": {
        "id": "BFbcBQpJTj1R",
        "colab": {
          "base_uri": "https://localhost:8080/"
        },
        "outputId": "fff2cba9-f1d1-4701-9b2c-b24eabf0546e"
      },
      "source": [
        "model = PhysicsInformedNN(tx_b_train, x_b_train, tz_b_train, z_b_train, t_f_train, layers, lb, ub)\n",
        "start_time = time.time()                \n",
        "model.train()\n",
        "elapsed = time.time() - start_time                \n",
        "print('Training time: %.4f' % (elapsed))"
      ],
      "execution_count": null,
      "outputs": [
        {
          "output_type": "stream",
          "text": [
            "Device mapping:\n",
            "/job:localhost/replica:0/task:0/device:XLA_CPU:0 -> device: XLA_CPU device\n",
            "\n",
            "WARNING:tensorflow:\n",
            "The TensorFlow contrib module will not be included in TensorFlow 2.0.\n",
            "For more information, please see:\n",
            "  * https://github.com/tensorflow/community/blob/master/rfcs/20180907-contrib-sunset.md\n",
            "  * https://github.com/tensorflow/addons\n",
            "  * https://github.com/tensorflow/io (for I/O related ops)\n",
            "If you depend on functionality not listed there, please file an issue.\n",
            "\n",
            "Loss: 104.05629\n",
            "Loss: 103.94793\n",
            "Loss: 103.538956\n",
            "Loss: 103.33597\n",
            "Loss: 102.84212\n",
            "Loss: 102.45299\n",
            "Loss: 102.10908\n",
            "Loss: 101.93803\n",
            "Loss: 101.84842\n",
            "Loss: 101.65721\n",
            "Loss: 101.531815\n",
            "Loss: 101.40611\n",
            "Loss: 101.09669\n",
            "Loss: 100.56991\n",
            "Loss: 99.06781\n",
            "Loss: 99.96185\n",
            "Loss: 98.13008\n",
            "Loss: 99.12476\n",
            "Loss: 97.065315\n",
            "Loss: 97.92386\n",
            "Loss: 96.08413\n",
            "Loss: 96.42933\n",
            "Loss: 95.3319\n",
            "Loss: 95.047226\n",
            "Loss: 94.04974\n",
            "Loss: 93.66973\n",
            "Loss: 92.90291\n",
            "Loss: 99.375046\n",
            "Loss: 92.32419\n",
            "Loss: 91.807495\n",
            "Loss: 91.96239\n",
            "Loss: 91.525406\n",
            "Loss: 91.2476\n",
            "Loss: 91.009514\n",
            "Loss: 90.38216\n",
            "Loss: 89.53666\n",
            "Loss: 89.77602\n",
            "Loss: 89.29131\n",
            "Loss: 89.37574\n",
            "Loss: 88.99531\n",
            "Loss: 88.79089\n",
            "Loss: 88.64841\n",
            "Loss: 88.51657\n",
            "Loss: 88.25299\n",
            "Loss: 87.92904\n",
            "Loss: 87.20652\n",
            "Loss: 86.35756\n",
            "Loss: 87.12545\n",
            "Loss: 85.999794\n",
            "Loss: 85.76377\n",
            "Loss: 85.57041\n",
            "Loss: 84.43257\n",
            "Loss: 93.19602\n",
            "Loss: 83.73188\n",
            "Loss: 93.06526\n",
            "Loss: 81.256584\n",
            "Loss: 78.50493\n",
            "Loss: 96.735176\n",
            "Loss: 76.91771\n",
            "Loss: 184.66771\n",
            "Loss: 76.32952\n",
            "Loss: 75.54554\n",
            "Loss: 76.11367\n",
            "Loss: 75.336006\n",
            "Loss: 75.09906\n",
            "Loss: 74.684074\n",
            "Loss: 74.089966\n",
            "Loss: 73.61483\n",
            "Loss: 73.06172\n",
            "Loss: 72.63374\n",
            "Loss: 72.15033\n",
            "Loss: 71.318855\n",
            "Loss: 70.60223\n",
            "Loss: 70.361046\n",
            "Loss: 70.04798\n",
            "Loss: 69.33089\n",
            "Loss: 68.85901\n",
            "Loss: 68.15596\n",
            "Loss: 67.43619\n",
            "Loss: 66.850655\n",
            "Loss: 66.169174\n",
            "Loss: 65.572296\n",
            "Loss: 65.25667\n",
            "Loss: 64.217\n",
            "Loss: 63.04147\n",
            "Loss: 61.502758\n",
            "Loss: 61.13522\n",
            "Loss: 60.261063\n",
            "Loss: 60.402466\n",
            "Loss: 60.09316\n",
            "Loss: 60.04469\n",
            "Loss: 59.978733\n",
            "Loss: 59.90041\n",
            "Loss: 59.64884\n",
            "Loss: 59.210506\n",
            "Loss: 58.78689\n",
            "Loss: 58.298817\n",
            "Loss: 58.194878\n",
            "Loss: 57.905373\n",
            "Loss: 58.200546\n",
            "Loss: 57.796265\n",
            "Loss: 57.683784\n",
            "Loss: 57.528664\n",
            "Loss: 57.236275\n",
            "Loss: 56.784817\n",
            "Loss: 56.548447\n",
            "Loss: 56.453342\n",
            "Loss: 56.36654\n",
            "Loss: 56.13853\n",
            "Loss: 55.51494\n",
            "Loss: 54.610985\n",
            "Loss: 53.831757\n",
            "Loss: 53.06652\n",
            "Loss: 52.670967\n",
            "Loss: 52.345875\n",
            "Loss: 51.95726\n",
            "Loss: 51.323463\n",
            "Loss: 50.35261\n",
            "Loss: 48.50967\n",
            "Loss: 47.73717\n",
            "Loss: 47.639523\n",
            "Loss: 46.509853\n",
            "Loss: 46.344135\n",
            "Loss: 45.30412\n",
            "Loss: 44.915085\n",
            "Loss: 44.22919\n",
            "Loss: 45.857216\n",
            "Loss: 43.333443\n",
            "Loss: 42.863235\n",
            "Loss: 42.23488\n",
            "Loss: 43.631504\n",
            "Loss: 42.05489\n",
            "Loss: 41.81649\n",
            "Loss: 41.543705\n",
            "Loss: 41.002365\n",
            "Loss: 52.92469\n",
            "Loss: 40.38437\n",
            "Loss: 80.65365\n",
            "Loss: 40.21556\n",
            "Loss: 52.856674\n",
            "Loss: 40.079533\n",
            "Loss: 39.773632\n",
            "Loss: 39.475418\n",
            "Loss: 38.78082\n",
            "Loss: 38.527702\n",
            "Loss: 39.398323\n",
            "Loss: 38.130165\n",
            "Loss: 37.82715\n",
            "Loss: 37.557693\n",
            "Loss: 37.14596\n",
            "Loss: 37.698944\n",
            "Loss: 36.632927\n",
            "Loss: 36.272186\n",
            "Loss: 35.960777\n",
            "Loss: 35.815228\n",
            "Loss: 35.73254\n",
            "Loss: 35.45352\n",
            "Loss: 34.883854\n",
            "Loss: 33.58355\n",
            "Loss: 31.99464\n",
            "Loss: 29.86708\n",
            "Loss: 29.57867\n",
            "Loss: 28.785341\n",
            "Loss: 27.6805\n",
            "Loss: 25.903847\n",
            "Loss: 24.540783\n",
            "Loss: 23.264236\n",
            "Loss: 22.519754\n",
            "Loss: 22.038475\n",
            "Loss: 21.691944\n",
            "Loss: 21.459488\n",
            "Loss: 21.272968\n",
            "Loss: 21.090378\n",
            "Loss: 20.824547\n",
            "Loss: 20.31911\n",
            "Loss: 19.159866\n",
            "Loss: 17.387049\n",
            "Loss: 20.616411\n",
            "Loss: 15.734934\n",
            "Loss: 16.333958\n",
            "Loss: 14.149717\n",
            "Loss: 13.670305\n",
            "Loss: 12.597336\n",
            "Loss: 11.574117\n",
            "Loss: 10.063701\n",
            "Loss: 8.64824\n",
            "Loss: 7.719451\n",
            "Loss: 8.122399\n",
            "Loss: 7.308079\n",
            "Loss: 6.6339536\n",
            "Loss: 5.8832273\n",
            "Loss: 5.268758\n",
            "Loss: 4.9192305\n",
            "Loss: 4.6203623\n",
            "Loss: 4.4433603\n",
            "Loss: 4.3764553\n",
            "Loss: 4.87117\n",
            "Loss: 4.198921\n",
            "Loss: 3.8324594\n",
            "Loss: 3.479653\n",
            "Loss: 7.2685313\n",
            "Loss: 3.1338735\n",
            "Loss: 3.1871567\n",
            "Loss: 2.9836776\n",
            "Loss: 4.8745995\n",
            "Loss: 2.843463\n",
            "Loss: 2.7482328\n",
            "Loss: 2.6708226\n",
            "Loss: 2.608807\n",
            "Loss: 2.5541775\n",
            "Loss: 2.4949965\n",
            "Loss: 2.4339347\n",
            "Loss: 2.387134\n",
            "Loss: 2.347214\n",
            "Loss: 2.3197756\n",
            "Loss: 2.2993617\n",
            "Loss: 2.29162\n",
            "Loss: 2.2801104\n",
            "Loss: 2.2555993\n",
            "Loss: 2.2355661\n",
            "Loss: 2.2445667\n",
            "Loss: 2.2225618\n",
            "Loss: 2.2055378\n",
            "Loss: 2.1935363\n",
            "Loss: 2.19011\n",
            "Loss: 2.1865458\n",
            "Loss: 2.1788306\n",
            "Loss: 2.1748066\n",
            "Loss: 2.1575372\n",
            "Loss: 2.1319885\n",
            "Loss: 2.1716642\n",
            "Loss: 2.1135044\n",
            "Loss: 2.1459115\n",
            "Loss: 2.0949621\n",
            "Loss: 2.0975304\n",
            "Loss: 2.083375\n",
            "Loss: 2.0706797\n",
            "Loss: 2.0585184\n",
            "Loss: 2.0424883\n",
            "Loss: 2.0163732\n",
            "Loss: 1.9890387\n",
            "Loss: 2.274876\n",
            "Loss: 1.9671547\n",
            "Loss: 1.9810576\n",
            "Loss: 1.9435062\n",
            "Loss: 1.9305575\n",
            "Loss: 1.9075966\n",
            "Loss: 1.8926936\n",
            "Loss: 1.8776777\n",
            "Loss: 1.8624265\n",
            "Loss: 1.8444607\n",
            "Loss: 1.8336724\n",
            "Loss: 1.8400096\n",
            "Loss: 1.8228451\n",
            "Loss: 1.8118652\n",
            "Loss: 1.7995021\n",
            "Loss: 1.7902049\n",
            "Loss: 1.7632222\n",
            "Loss: 1.7305725\n",
            "Loss: 1.7129166\n",
            "Loss: 1.6914511\n",
            "Loss: 1.6576352\n",
            "Loss: 1.7947476\n",
            "Loss: 1.6354852\n",
            "Loss: 1.6428028\n",
            "Loss: 1.5639491\n",
            "Loss: 1.5842623\n",
            "Loss: 1.5221274\n",
            "Loss: 2.2854328\n",
            "Loss: 1.4824181\n",
            "Loss: 6.4435196\n",
            "Loss: 1.4469304\n",
            "Loss: 1.4164679\n",
            "Loss: 1.376028\n",
            "Loss: 1.3297211\n",
            "Loss: 1.2746601\n",
            "Loss: 1.2065269\n",
            "Loss: 1.3938695\n",
            "Loss: 1.1918879\n",
            "Loss: 2.2587404\n",
            "Loss: 1.1494914\n",
            "Loss: 1.629776\n",
            "Loss: 1.137073\n",
            "Loss: 1.1179726\n",
            "Loss: 1.0828187\n",
            "Loss: 1.069378\n",
            "Loss: 1.0548238\n",
            "Loss: 0.9650412\n",
            "Loss: 0.9324\n",
            "Loss: 0.9000834\n",
            "Loss: 1.8229178\n",
            "Loss: 0.89767873\n",
            "Loss: 0.9017293\n",
            "Loss: 0.8836242\n",
            "Loss: 0.8781745\n",
            "Loss: 2.0476034\n",
            "Loss: 0.87211245\n",
            "Loss: 0.84271085\n",
            "Loss: 0.8310884\n",
            "Loss: 0.82030916\n",
            "Loss: 0.9244957\n",
            "Loss: 0.8133966\n",
            "Loss: 0.79847395\n",
            "Loss: 0.787266\n",
            "Loss: 0.7858795\n",
            "Loss: 0.77571577\n",
            "Loss: 0.7711557\n",
            "Loss: 0.76527923\n",
            "Loss: 0.7445558\n",
            "Loss: 0.7102053\n",
            "Loss: 0.6978222\n",
            "Loss: 0.68890595\n",
            "Loss: 0.7934041\n",
            "Loss: 0.66594744\n",
            "Loss: 0.6368692\n",
            "Loss: 0.61705863\n",
            "Loss: 0.60222286\n",
            "Loss: 0.5729288\n",
            "Loss: 0.7465577\n",
            "Loss: 0.5560724\n",
            "Loss: 0.56169796\n",
            "Loss: 0.5345746\n",
            "Loss: 0.51363164\n",
            "Loss: 0.5088634\n",
            "Loss: 0.49556285\n",
            "Loss: 0.49694836\n",
            "Loss: 0.47767338\n",
            "Loss: 0.45555624\n",
            "Loss: 0.43738252\n",
            "Loss: 0.41731945\n",
            "Loss: 0.42739052\n",
            "Loss: 0.4045002\n",
            "Loss: 0.39885753\n",
            "Loss: 0.39347583\n",
            "Loss: 0.38533178\n",
            "Loss: 0.38442793\n",
            "Loss: 0.38128012\n",
            "Loss: 0.3761895\n",
            "Loss: 0.37013638\n",
            "Loss: 0.36177516\n",
            "Loss: 0.35349467\n",
            "Loss: 0.3472481\n",
            "Loss: 0.33951652\n",
            "Loss: 0.35421786\n",
            "Loss: 0.3341617\n",
            "Loss: 0.3355046\n",
            "Loss: 0.3277592\n",
            "Loss: 0.32218623\n",
            "Loss: 0.31684914\n",
            "Loss: 0.31851363\n",
            "Loss: 0.3148965\n",
            "Loss: 0.30981654\n",
            "Loss: 0.3055967\n",
            "Loss: 0.2982427\n",
            "Loss: 0.29665548\n",
            "Loss: 0.2956649\n",
            "Loss: 0.29002\n",
            "Loss: 0.2865404\n",
            "Loss: 0.28856367\n",
            "Loss: 0.2847576\n",
            "Loss: 0.2820047\n",
            "Loss: 0.28019527\n",
            "Loss: 0.27592406\n",
            "Loss: 0.27113742\n",
            "Loss: 0.2672844\n",
            "Loss: 0.2643332\n",
            "Loss: 0.29440445\n",
            "Loss: 0.261548\n",
            "Loss: 0.26182026\n",
            "Loss: 0.25975955\n",
            "Loss: 0.25614908\n",
            "Loss: 0.24929929\n",
            "Loss: 0.24154669\n",
            "Loss: 0.23283376\n",
            "Loss: 0.27692452\n",
            "Loss: 0.22685519\n",
            "Loss: 0.22006659\n",
            "Loss: 0.2097865\n",
            "Loss: 0.20544113\n",
            "Loss: 0.20495366\n",
            "Loss: 0.20415713\n",
            "Loss: 0.20333593\n",
            "Loss: 0.20247814\n",
            "Loss: 0.2005709\n",
            "Loss: 0.1972642\n",
            "Loss: 0.19436276\n",
            "Loss: 0.1944736\n",
            "Loss: 0.19250344\n",
            "Loss: 0.18804374\n",
            "Loss: 0.18554474\n",
            "Loss: 0.18427894\n",
            "Loss: 0.18238005\n",
            "Loss: 0.18010433\n",
            "Loss: 0.17769317\n",
            "Loss: 0.1761378\n",
            "Loss: 0.17331669\n",
            "Loss: 0.18340057\n",
            "Loss: 0.17114997\n",
            "Loss: 0.16931152\n",
            "Loss: 0.16759318\n",
            "Loss: 0.1651653\n",
            "Loss: 0.16870221\n",
            "Loss: 0.16424748\n",
            "Loss: 0.16148259\n",
            "Loss: 0.16063932\n",
            "Loss: 0.1588293\n",
            "Loss: 0.15820792\n",
            "Loss: 0.15683556\n",
            "Loss: 0.15366045\n",
            "Loss: 0.15287519\n",
            "Loss: 0.15225187\n",
            "Loss: 0.1508608\n",
            "Loss: 0.14894319\n",
            "Loss: 0.14907838\n",
            "Loss: 0.14841577\n",
            "Loss: 0.14727543\n",
            "Loss: 0.14630063\n",
            "Loss: 0.14482176\n",
            "Loss: 0.14241078\n",
            "Loss: 0.14928204\n",
            "Loss: 0.1411024\n",
            "Loss: 0.14313766\n",
            "Loss: 0.1401872\n",
            "Loss: 0.13924155\n",
            "Loss: 0.13846341\n",
            "Loss: 0.13722646\n",
            "Loss: 0.13671567\n",
            "Loss: 0.13503939\n",
            "Loss: 0.13380422\n",
            "Loss: 0.13229069\n",
            "Loss: 0.1293064\n",
            "Loss: 0.1359175\n",
            "Loss: 0.12879527\n",
            "Loss: 0.13083631\n",
            "Loss: 0.1271626\n",
            "Loss: 0.12606408\n",
            "Loss: 0.12491432\n",
            "Loss: 0.124947846\n",
            "Loss: 0.1243874\n",
            "Loss: 0.12303119\n",
            "Loss: 0.13391303\n",
            "Loss: 0.1224476\n",
            "Loss: 0.12136185\n",
            "Loss: 0.12057645\n",
            "Loss: 0.119662724\n",
            "Loss: 0.12010245\n",
            "Loss: 0.11931108\n",
            "Loss: 0.118748166\n",
            "Loss: 0.11725673\n",
            "Loss: 0.11743948\n",
            "Loss: 0.116495304\n",
            "Loss: 0.11537925\n",
            "Loss: 0.15989538\n",
            "Loss: 0.11481273\n",
            "Loss: 0.114845105\n",
            "Loss: 0.114148475\n",
            "Loss: 0.11302431\n",
            "Loss: 0.11335836\n",
            "Loss: 0.11202866\n",
            "Loss: 0.10997997\n",
            "Loss: 0.10912256\n",
            "Loss: 0.10962642\n",
            "Loss: 0.106990084\n",
            "Loss: 0.11108915\n",
            "Loss: 0.106573276\n",
            "Loss: 0.10581659\n",
            "Loss: 0.10483261\n",
            "Loss: 0.10223998\n",
            "Loss: 0.098471865\n",
            "Loss: 0.12960841\n",
            "Loss: 0.09771547\n",
            "Loss: 0.09762614\n",
            "Loss: 0.095994286\n",
            "Loss: 0.09468429\n",
            "Loss: 0.09880643\n",
            "Loss: 0.093669355\n",
            "Loss: 0.0919828\n",
            "Loss: 0.0974415\n",
            "Loss: 0.09054054\n",
            "Loss: 0.08962407\n",
            "Loss: 0.088601336\n",
            "Loss: 0.08784938\n",
            "Loss: 0.08750138\n",
            "Loss: 0.0871756\n",
            "Loss: 0.086393796\n",
            "Loss: 0.08537586\n",
            "Loss: 0.08673844\n",
            "Loss: 0.0847747\n",
            "Loss: 0.083211556\n",
            "Loss: 0.082323186\n",
            "Loss: 0.08177337\n",
            "Loss: 0.08140987\n",
            "Loss: 0.08425643\n",
            "Loss: 0.08036564\n",
            "Loss: 0.083950564\n",
            "Loss: 0.080027305\n",
            "Loss: 0.0790158\n",
            "Loss: 0.07797424\n",
            "Loss: 0.077512234\n",
            "Loss: 0.07729904\n",
            "Loss: 0.075941294\n",
            "Loss: 0.07376554\n",
            "Loss: 0.072757214\n",
            "Loss: 0.0722207\n",
            "Loss: 0.1412197\n",
            "Loss: 0.06856386\n",
            "Loss: 0.081246346\n",
            "Loss: 0.06678427\n",
            "Loss: 0.08285785\n",
            "Loss: 0.06254671\n",
            "Loss: 0.059494004\n",
            "Loss: 0.058526695\n",
            "Loss: 8.273733\n",
            "Loss: 0.06192107\n",
            "Loss: 0.055339016\n",
            "Loss: 0.16796212\n",
            "Loss: 0.053902853\n",
            "Loss: 0.052612096\n",
            "Loss: 0.051480304\n",
            "Loss: 0.050813124\n",
            "Loss: 0.050355714\n",
            "Loss: 0.0497301\n",
            "Loss: 0.04885291\n",
            "Loss: 0.048477225\n",
            "Loss: 0.048003417\n",
            "Loss: 0.048235532\n",
            "Loss: 0.04646414\n",
            "Loss: 0.043824162\n",
            "Loss: 0.041955557\n",
            "Loss: 0.04917762\n",
            "Loss: 0.040950987\n",
            "Loss: 0.040688705\n",
            "Loss: 0.040364537\n",
            "Loss: 0.03950126\n",
            "Loss: 0.03856561\n",
            "Loss: 0.038684938\n",
            "Loss: 0.03769481\n",
            "Loss: 0.03610828\n",
            "Loss: 0.038791765\n",
            "Loss: 0.03477788\n",
            "Loss: 0.033088144\n",
            "Loss: 0.031767063\n",
            "Loss: 0.032519393\n",
            "Loss: 0.031312093\n",
            "Loss: 0.029707115\n",
            "Loss: 0.029249836\n",
            "Loss: 0.028805815\n",
            "Loss: 0.027488025\n",
            "Loss: 0.026670234\n",
            "Loss: 0.045455348\n",
            "Loss: 0.02535239\n",
            "Loss: 0.029643381\n",
            "Loss: 0.024882669\n",
            "Loss: 0.024182398\n",
            "Loss: 0.02356654\n",
            "Loss: 0.022964215\n",
            "Loss: 0.021959195\n",
            "Loss: 0.02124126\n",
            "Loss: 0.02039655\n",
            "Loss: 0.0195066\n",
            "Loss: 0.13632263\n",
            "Loss: 0.018715736\n",
            "Loss: 0.018568065\n",
            "Loss: 0.018212045\n",
            "Loss: 0.017742123\n",
            "Loss: 0.017407935\n",
            "Loss: 0.016975949\n",
            "Loss: 0.016303264\n",
            "Loss: 0.015430165\n",
            "Loss: 0.014983682\n",
            "Loss: 0.29220873\n",
            "Loss: 0.013632828\n",
            "Loss: 0.014221775\n",
            "Loss: 0.013390179\n",
            "Loss: 0.013450831\n",
            "Loss: 0.013093903\n",
            "Loss: 0.012933657\n",
            "Loss: 0.012696506\n",
            "Loss: 0.012351968\n",
            "Loss: 0.012082103\n",
            "Loss: 0.011633245\n",
            "Loss: 0.01176595\n",
            "Loss: 0.0110937385\n",
            "Loss: 0.010936289\n",
            "Loss: 0.010874099\n",
            "Loss: 0.010532732\n",
            "Loss: 0.01031255\n",
            "Loss: 0.009995941\n",
            "Loss: 0.009578212\n",
            "Loss: 0.009675168\n",
            "Loss: 0.009337063\n",
            "Loss: 0.00902922\n",
            "Loss: 0.008802235\n",
            "Loss: 0.008695336\n",
            "Loss: 0.008509657\n",
            "Loss: 0.00841705\n",
            "Loss: 0.008264937\n",
            "Loss: 0.007966524\n",
            "Loss: 0.0076236124\n",
            "Loss: 0.0075561022\n",
            "Loss: 0.007469789\n",
            "Loss: 0.007311523\n",
            "Loss: 0.007163028\n",
            "Loss: 0.007049226\n",
            "Loss: 0.007103312\n",
            "Loss: 0.0069576926\n",
            "Loss: 0.006852461\n",
            "Loss: 0.0066767153\n",
            "Loss: 0.0066411886\n",
            "Loss: 0.0066019045\n",
            "Loss: 0.0063964142\n",
            "Loss: 0.006184203\n",
            "Loss: 0.006339156\n",
            "Loss: 0.006074346\n",
            "Loss: 0.0059251594\n",
            "Loss: 1382631700.0\n",
            "Loss: 0.16701733\n",
            "Loss: 0.0058276183\n",
            "Loss: 0.005827462\n",
            "Loss: 0.0058271843\n",
            "Loss: 0.0058284076\n",
            "Loss: 0.00582643\n",
            "Loss: 0.005824572\n",
            "Loss: 0.00582136\n",
            "Loss: 0.0058229933\n",
            "Loss: 0.005820162\n",
            "Loss: 0.005817143\n",
            "Loss: 0.0058123106\n",
            "Loss: 0.0058114887\n",
            "Loss: 0.005810729\n",
            "Loss: 0.0058104363\n",
            "Loss: 0.005810182\n",
            "Loss: 0.005809916\n",
            "Loss: 0.0058100154\n",
            "Loss: 0.005809937\n",
            "Loss: 0.005809922\n",
            "Loss: 0.005809916\n",
            "Loss: 0.005809916\n",
            "Loss: 0.005809916\n",
            "Loss: 0.005809916\n",
            "Loss: 0.005809916\n",
            "Loss: 0.005809916\n",
            "Loss: 0.005809916\n",
            "Loss: 0.005809916\n",
            "Loss: 0.005809916\n",
            "Loss: 0.005809916\n",
            "Loss: 0.005809916\n",
            "Loss: 0.005809916\n",
            "Loss: 0.005809916\n",
            "Loss: 0.005809916\n",
            "Loss: 0.005809916\n",
            "Loss: 0.005809916\n",
            "Loss: 0.005809916\n",
            "Loss: 0.005809916\n",
            "INFO:tensorflow:Optimization terminated with:\n",
            "  Message: b'CONVERGENCE: REL_REDUCTION_OF_F_<=_FACTR*EPSMCH'\n",
            "  Objective function value: 0.005810\n",
            "  Number of iterations: 499\n",
            "  Number of functions evaluations: 654\n",
            "Training time: 6.1892\n"
          ],
          "name": "stdout"
        }
      ]
    },
    {
      "cell_type": "markdown",
      "metadata": {
        "id": "D27sWnbvoyxH"
      },
      "source": [
        "#Interpolation"
      ]
    },
    {
      "cell_type": "markdown",
      "metadata": {
        "id": "dNtM-5aepUxt"
      },
      "source": [
        "Predicting Interpolation Values"
      ]
    },
    {
      "cell_type": "code",
      "metadata": {
        "id": "KVKYq0i_pJS4"
      },
      "source": [
        "# Input 25 percent of the data set as testing data\n",
        "idx_train = np.random.choice(t_star.shape[0], int(t_star.shape[0]*0.25) , replace=False)\n",
        "t_test = t_star[idx_train, :]\n",
        "x_test = x_star[idx_train, :]\n",
        "z_test = z_star[idx_train, :]\n",
        "x_pred, z_pred, fx_pred, fz_pred = model.predict(t_test)"
      ],
      "execution_count": null,
      "outputs": []
    },
    {
      "cell_type": "markdown",
      "metadata": {
        "id": "emu2R0wLqTnU"
      },
      "source": [
        "Plotting for Interpolation"
      ]
    },
    {
      "cell_type": "code",
      "metadata": {
        "colab": {
          "base_uri": "https://localhost:8080/",
          "height": 302
        },
        "id": "ctHwbNZzpqfi",
        "outputId": "532afe52-29bb-4949-f5cb-394c52e79528"
      },
      "source": [
        "from matplotlib import pyplot as plt\n",
        "fig, (ax1, ax2) = plt.subplots(2)\n",
        "fig.suptitle('Predicted and Actual Value for Interpolation Range of t=0 to t=10\\n')\n",
        "ax1.set_title('\\n x direction')\n",
        "ax1.plot(t_test, x_pred, 'x')\n",
        "ax1.plot(t_star, x_star, 'r-')\n",
        "ax1.set(xlabel='', ylabel=' Displacement')\n",
        "ax1.legend([\"Predicted Value\", \"Actual Value\"])\n",
        "ax2.set_title('z direction')\n",
        "ax2.plot(t_test, z_pred, 'x', label='Predicted Value')\n",
        "ax2.plot(t_star, z_star, 'r-', label='Actual Value')\n",
        "ax2.set(xlabel='Time', ylabel=' Displacement')\n",
        "ax2.legend([\"Predicted Value\", \"Actual Value\"])\n",
        "fig.tight_layout()\n",
        "plt.show()"
      ],
      "execution_count": null,
      "outputs": [
        {
          "output_type": "display_data",
          "data": {
            "image/png": "[encoded data removed]",
            "text/plain": [
              "<Figure size 432x288 with 2 Axes>"
            ]
          },
          "metadata": {
            "tags": [],
            "needs_background": "light"
          }
        }
      ]
    },
    {
      "cell_type": "markdown",
      "metadata": {
        "id": "ad6owPPNmqib"
      },
      "source": [
        "# Extrapolation"
      ]
    },
    {
      "cell_type": "markdown",
      "metadata": {
        "id": "6eyvN0mwoFnG"
      },
      "source": [
        "Predicting Exrapolation Values"
      ]
    },
    {
      "cell_type": "code",
      "metadata": {
        "id": "34vxkxero4fQ"
      },
      "source": [
        "lb_extrap = 10\n",
        "ub_extrap = 15\n",
        "t1 = np.arange(lb_extrap, ub_extrap, 0.1)\n",
        "x1 = -5*t1*t1 + 50*t1\n",
        "z1 = 2*t1\n",
        "\n",
        "t_extrap = t1.flatten()[:,None]\n",
        "x_extrap = x1.flatten()[:,None]\n",
        "z_extrap = z1.flatten()[:,None]\n",
        "x_pred, z_pred, fx_pred, fz_pred = model.predict(t_extrap)"
      ],
      "execution_count": null,
      "outputs": []
    },
    {
      "cell_type": "markdown",
      "metadata": {
        "id": "_wIxXpZRXpZa"
      },
      "source": [
        "Plotting for Extrapolation"
      ]
    },
    {
      "cell_type": "code",
      "metadata": {
        "id": "gptIFCfTNpqZ",
        "colab": {
          "base_uri": "https://localhost:8080/",
          "height": 302
        },
        "outputId": "d4867828-b681-45d7-c990-83a8c8e7b36a"
      },
      "source": [
        "from matplotlib import pyplot as plt\n",
        "fig, (ax1, ax2) = plt.subplots(2)\n",
        "fig.suptitle('Predicted and Actual Value for Extrapolation Range of t=10 to t=15\\n')\n",
        "ax1.set_title('\\n x direction', fontsize=\"15\", color=\"black\")\n",
        "ax1.plot(t_extrap, x_pred, 'x')\n",
        "ax1.plot(t_extrap, x_extrap, 'r-')\n",
        "ax1.set(xlabel='', ylabel=' Displacement')\n",
        "ax1.legend([\"Predicted Value\", \"Actual Value\"])\n",
        "ax2.set_title('z direction\\n', fontsize=\"15\", color=\"black\")\n",
        "ax2.plot(t_extrap, z_pred, 'x', label='Predicted Value')\n",
        "ax2.plot(t_extrap, z_extrap, 'r-', label='Actual Value')\n",
        "ax2.set(xlabel='Time', ylabel=' Displacement')\n",
        "ax2.legend([\"Predicted Value\", \"Actual Value\"])\n",
        "fig.tight_layout()\n",
        "plt.show()"
      ],
      "execution_count": null,
      "outputs": [
        {
          "output_type": "display_data",
          "data": {
            "image/png": "[encoded data removed]",
            "text/plain": [
              "<Figure size 432x288 with 2 Axes>"
            ]
          },
          "metadata": {
            "tags": [],
            "needs_background": "light"
          }
        }
      ]
    }
  ]
}